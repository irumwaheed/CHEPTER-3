{
  "nbformat": 4,
  "nbformat_minor": 0,
  "metadata": {
    "colab": {
      "provenance": []
    },
    "kernelspec": {
      "name": "python3",
      "display_name": "Python 3"
    },
    "language_info": {
      "name": "python"
    }
  },
  "cells": [
    {
      "cell_type": "code",
      "execution_count": 12,
      "metadata": {
        "colab": {
          "base_uri": "https://localhost:8080/"
        },
        "id": "4rxTupZ1p7eH",
        "outputId": "c3d64f87-d01a-4564-a8ac-d9fe59cb1d20"
      },
      "outputs": [
        {
          "output_type": "stream",
          "name": "stdout",
          "text": [
            "Hi Ayeshayou are all invited to dinner at areena\n",
            "Hi fatimayou are all invited to dinner at areena\n",
            "Hi mariayou are all invited to dinner at areena\n"
          ]
        }
      ],
      "source": [
        "irum_friends = [\"Ayesha\", \"fatima\", \"maria\"];\n",
        "print(\"Hi \"+irum_friends[0]+\"you are all invited to dinner at areena\")\n",
        "print(\"Hi \"+irum_friends[1]+\"you are all invited to dinner at areena\")\n",
        "print(\"Hi \"+irum_friends[2]+\"you are all invited to dinner at areena\")"
      ]
    },
    {
      "cell_type": "markdown",
      "source": [
        "3_5 You just heard that one of your guests can’t make the dinner, so you need to send out a new set of invitations . You’ll have to think of someone else to invite . "
      ],
      "metadata": {
        "id": "7Giv6zqL3_jA"
      }
    },
    {
      "cell_type": "code",
      "source": [
        "irum_friends = [\"fatima\", \"ayesha\", \"maria\"];\n",
        "print(irum_friends[1]+\" Will not be able to join us for Dinner.\")\n",
        "\n",
        "irum_friends[1] = 'sadia';\n",
        "print(\"Hi \"+irum_friends[0]+\", You are invited for Dinner at areena.\")\n",
        "print(\"Hi \"+irum_friends[1]+\", You are invited for Dinner at areena.\")\n",
        "print(\"Hi \"+irum_friends[2]+\", You are invited for Dinner at areena.\")\n",
        "     \n"
      ],
      "metadata": {
        "colab": {
          "base_uri": "https://localhost:8080/"
        },
        "id": "LpYaVvOw4UCV",
        "outputId": "e6dfcb68-4ac8-4db8-ef12-2ae5c32bf650"
      },
      "execution_count": 14,
      "outputs": [
        {
          "output_type": "stream",
          "name": "stdout",
          "text": [
            "ayesha Will not be able to join us for Dinner.\n",
            "Hi fatima, You are invited for Dinner at areena.\n",
            "Hi sadia, You are invited for Dinner at areena.\n",
            "Hi maria, You are invited for Dinner at areena.\n"
          ]
        }
      ]
    },
    {
      "cell_type": "markdown",
      "source": [
        "\n",
        "Excersice 3.6 More Guests:: You just found a bigger dinner table, so now more space is available. Think of three more guests to invite to dinner"
      ],
      "metadata": {
        "id": "Hw209xCw6WaS"
      }
    },
    {
      "cell_type": "code",
      "source": [
        "irum_friends = [\"fatima\", \"ayesha\", \"maria\"];\n",
        "irum_friends.insert(0, \"noor\");\n",
        "irum_friends.insert(2, \"zaba\");\n",
        "irum_friends.append(\"hira\");\n",
        "print(\"Hello everyone, I found a bigger table for dinner.\\n\"+irum_friends[0]+\", \"+irum_friends[1]+\", \"+irum_friends[2]+\", \"+irum_friends[3])"
      ],
      "metadata": {
        "colab": {
          "base_uri": "https://localhost:8080/"
        },
        "id": "9yMq6Kn57JqW",
        "outputId": "e89c57f9-418f-440e-890e-1e570f954492"
      },
      "execution_count": 18,
      "outputs": [
        {
          "output_type": "stream",
          "name": "stdout",
          "text": [
            "Hello everyone, I found a bigger table for dinner.\n",
            "noor, fatima, zaba, ayesha\n"
          ]
        }
      ]
    },
    {
      "cell_type": "markdown",
      "source": [
        "### **3-7.** Shrinking Guest List: You just found out that your new dinner table won’t arrive in time for the dinner, and you have space for only two guests \n",
        "\n",
        "\n",
        "*\t**Start with your program from Exercise 3-6** . Add a new line that prints a message saying that you can invite only two people for dinner,\n",
        "\n",
        "\n",
        "\n",
        "* \tUse pop() to remove guests from your list one at a time until only \n",
        "names remain in your list  Each time you pop a name from your list, print a message to that person letting them know you’re sorry you can’t invite them to dinner . \n",
        "\n",
        "\n",
        "\n",
        "*   Print a message to each of the two people still on your list, letting them know they’re still invited     \n",
        "\n",
        "\n",
        "\n",
        "\n",
        "*   \tUse del to remove the last two names from your list, so you have an empty list . Print your list to make sure you actually have an empty list at the end of your program \n",
        "\n",
        "\n",
        "\n",
        "\n",
        "\n",
        "\n",
        "\n",
        "  \n",
        "   \n"
      ],
      "metadata": {
        "id": "aYyvImtCC2ko"
      }
    },
    {
      "cell_type": "code",
      "source": [
        "irum_friends = [\"fatima\", \"ayesha\", \"maria\"];\n",
        "irum_friends.insert(0, \"noor\");\n",
        "irum_friends.insert(2, \"zaba\");\n",
        "irum_friends.append(\"hira\");\n",
        "\n",
        "print(\"I am erally sorry to announce that my booking for areena is changed, now I can invite only two people\")\n",
        "removed1 = irum_friends.pop(0)\n",
        "print(\"Hi \"+removed1+\", Sorry I can't invite you to dinner\")\n",
        "removed2 = irum_friends.pop(0)\n",
        "print(\"Hi \"+removed2+\", Sorry I can't invite you to dinner\")\n",
        "removed3 = irum_friends.pop(0)\n",
        "print(\"Hi \"+removed3+\", Sorry I can't invite you to dinner\")\n",
        "removed4 = irum_friends.pop(0)\n",
        "print(\"Hi \"+removed4+\", Sorry I can't invite you to dinner\\n\")\n",
        "print(\"Hi \"+irum_friends[0]+\", You are still invited for the Dinner\")\n",
        "print(\"Hi \"+irum_friends[1]+\", You are still invited for the Dinner\")\n",
        "\n",
        "del irum_friends[0]\n",
        "del irum_friends[0]\n",
        "print(irum_friends)\n",
        "     "
      ],
      "metadata": {
        "colab": {
          "base_uri": "https://localhost:8080/"
        },
        "id": "peoAfK1mN7o9",
        "outputId": "461e2bd4-7790-4762-9ff4-d52b73ca5a99"
      },
      "execution_count": 23,
      "outputs": [
        {
          "output_type": "stream",
          "name": "stdout",
          "text": [
            "I am erally sorry to announce that my booking for areena is changed, now I can invite only two people\n",
            "Hi noor, Sorry I can't invite you to dinner\n",
            "Hi fatima, Sorry I can't invite you to dinner\n",
            "Hi zaba, Sorry I can't invite you to dinner\n",
            "Hi ayesha, Sorry I can't invite you to dinner\n",
            "\n",
            "Hi maria, You are still invited for the Dinner\n",
            "Hi hira, You are still invited for the Dinner\n",
            "[]\n"
          ]
        }
      ]
    }
  ]
}