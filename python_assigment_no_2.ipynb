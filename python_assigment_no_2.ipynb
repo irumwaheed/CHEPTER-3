{
  "nbformat": 4,
  "nbformat_minor": 0,
  "metadata": {
    "colab": {
      "provenance": [],
      "authorship_tag": "ABX9TyPyv1U4ObQrAFDRFBtL4oz5",
      "include_colab_link": true
    },
    "kernelspec": {
      "name": "python3",
      "display_name": "Python 3"
    },
    "language_info": {
      "name": "python"
    }
  },
  "cells": [
    {
      "cell_type": "markdown",
      "metadata": {
        "id": "view-in-github",
        "colab_type": "text"
      },
      "source": [
        "<a href=\"https://colab.research.google.com/github/irumwaheed/CHEPTER-3/blob/main/python_assigment_no_2.ipynb\" target=\"_parent\"><img src=\"https://colab.research.google.com/assets/colab-badge.svg\" alt=\"Open In Colab\"/></a>"
      ]
    },
    {
      "cell_type": "markdown",
      "source": [
        "4-11. My Pizzas, Your Pizzas: Start with your program from Exercise 4-1 (page 60) . Make a copy of the list of pizzas, and call it friend_pizzas . Then, do the following: •\tAdd a new pizza to the original list . •\tAdd a different pizza to the list friend_pizzas . •\tProve that you have two separate lists . Print the message, My favorite pizzas are:, and then use a for loop to print the first list . Print the message, My friend’s favorite pizzas are:, and then use a for loop to print the second list . Make sure each new pizza is stored in the appropriate list ."
      ],
      "metadata": {
        "id": "XGF-rJ85Ksu0"
      }
    },
    {
      "cell_type": "code",
      "source": [
        "my_pizza = ['pepperoni', 'tikka', 'fajita']\n",
        "friend_pizzas = my_pizza[:]\n",
        "\n",
        "my_pizza.append(\"bonfire\")\n",
        "friend_pizzas.append('chees')\n",
        "\n",
        "print(\"My favorite pizzas are:\")\n",
        "for pizza in my_pizza:\n",
        "    print(f\"- {pizza}\")\n",
        "\n",
        "print(\"\\nMy friend's favorite pizzas are:\")\n",
        "for pizza in friend_pizzas:\n",
        "    print(f\"- {pizza}\")\n"
      ],
      "metadata": {
        "colab": {
          "base_uri": "https://localhost:8080/"
        },
        "id": "w-ZtpE85K0j-",
        "outputId": "203d9fad-cd27-4c99-cdb8-8dd80e665e02"
      },
      "execution_count": 3,
      "outputs": [
        {
          "output_type": "stream",
          "name": "stdout",
          "text": [
            "My favorite pizzas are:\n",
            "- pepperoni\n",
            "- tikka\n",
            "- fajita\n",
            "- bonfire\n",
            "\n",
            "My friend's favorite pizzas are:\n",
            "- pepperoni\n",
            "- tikka\n",
            "- fajita\n",
            "- chees\n"
          ]
        }
      ]
    },
    {
      "cell_type": "markdown",
      "source": [
        "4-13. Buffet: A buffet-style restaurant offers only five basic foods . Think of five simple foods, and store them in a tuple . •\tUse a for loop to print each food the restaurant offers . •\tTry to modify one of the items, and make sure that Python rejects the change . •\tThe restaurant changes its menu, replacing two of the items with different foods . Add a block of code that rewrites the tuple, and then use a for loop to print each of the items on the revised menu ."
      ],
      "metadata": {
        "id": "Af7CzjK0L22U"
      }
    },
    {
      "cell_type": "code",
      "source": [
        "menu_items = ('burger','shawarma','fries','fish','salad')\n",
        "    \n",
        "\n",
        "print(\"You can choose from the following menu items:\")\n",
        "for item in menu_items:\n",
        "    print(f\"- {item}\")\n",
        "\n",
        "menu_items = ('burger','shawarma','fries','sandwich','soup')\n",
        "\n",
        "print(\"\\nOur menu has been updated.\")\n",
        "print(\"You can now choose from the following items:\")\n",
        "for item in menu_items:\n",
        "    print(f\"- {item}\")\n"
      ],
      "metadata": {
        "colab": {
          "base_uri": "https://localhost:8080/"
        },
        "id": "3Ba92imPMKyj",
        "outputId": "3381174a-ab20-4b2c-f325-91eed0628506"
      },
      "execution_count": 6,
      "outputs": [
        {
          "output_type": "stream",
          "name": "stdout",
          "text": [
            "You can choose from the following menu items:\n",
            "- burger\n",
            "- shawarma\n",
            "- fries\n",
            "- fish\n",
            "- salad\n",
            "\n",
            "Our menu has been updated.\n",
            "You can now choose from the following items:\n",
            "- burger\n",
            "- shawarma\n",
            "- fries\n",
            "- sandwich\n",
            "- soup\n"
          ]
        }
      ]
    },
    {
      "cell_type": "markdown",
      "source": [
        "6-3: Glossary\n",
        "\n",
        "A Python dictionary can be used to model an actual dictionary. However, to avoid confusion, let’s call it a glossary.\n",
        "•Think of five programming words you’ve learned about in the previous chapters. Use these words as the keys in your glossary, and store their meanings as values.\n",
        "•Print each word and its meaning as neatly formatted output. You might print the word followed by a colon and then its meaning, or print the word on one line and then print its meaning indented on a second line. Use the newline character ('\\n') to insert a blank line between each word-meaning pair in your output.\n"
      ],
      "metadata": {
        "id": "hbAIFibHOEhr"
      }
    },
    {
      "cell_type": "code",
      "source": [
        "glossary = {\n",
        "    'string': 'A series of characters.',\n",
        "    'comment': 'A note in a program that the Python interpreter ignores.',\n",
        "    'list': 'A collection of items in a particular order.',\n",
        "    'loop': 'Work through a collection of items, one at a time.',\n",
        "    'dictionary': \"A collection of key-value pairs.\",\n",
        "    }\n",
        "\n",
        "word = 'string'\n",
        "print(f\"\\n{word.title()}: {glossary[word]}\")\n",
        "\n",
        "word = 'comment'\n",
        "print(f\"\\n{word.title()}: {glossary[word]}\")\n",
        "\n",
        "word = 'list'\n",
        "print(f\"\\n{word.title()}: {glossary[word]}\")\n",
        "\n",
        "word = 'loop'\n",
        "print(f\"\\n{word.title()}: {glossary[word]}\")\n",
        "\n",
        "word = 'dictionary'\n",
        "print(f\"\\n{word.title()}: {glossary[word]}\")\n"
      ],
      "metadata": {
        "colab": {
          "base_uri": "https://localhost:8080/"
        },
        "id": "GdYvSUexOS0F",
        "outputId": "b713388f-7bd3-48a9-af95-554e0f2981f0"
      },
      "execution_count": 7,
      "outputs": [
        {
          "output_type": "stream",
          "name": "stdout",
          "text": [
            "\n",
            "String: A series of characters.\n",
            "\n",
            "Comment: A note in a program that the Python interpreter ignores.\n",
            "\n",
            "List: A collection of items in a particular order.\n",
            "\n",
            "Loop: Work through a collection of items, one at a time.\n",
            "\n",
            "Dictionary: A collection of key-value pairs.\n"
          ]
        }
      ]
    },
    {
      "cell_type": "markdown",
      "source": [
        "6-11: Cities\n",
        "\n",
        "Make a dictionary called cities. Use the names of three cities as keys in your dictionary. Create a dictionary of information about each city and include the country that the city is in, its approximate population, and one fact about that city. The keys for each city’s dictionary should be something like country, population, and fact. Print the name of each city and all of the information you have stored about it.\n"
      ],
      "metadata": {
        "id": "J24XmHr6POfO"
      }
    },
    {
      "cell_type": "code",
      "source": [
        "cities = {\n",
        "    'MULTAN': {\n",
        "        'country': 'PAKISTAN',\n",
        "        'population':'2 million',\n",
        "        'nearbyplace': 'Bahawalpur'\n",
        "        },\n",
        "    'lahore': {\n",
        "        'country': 'pakistan ',\n",
        "        'population': '10 million',\n",
        "        'nearbyplace': 'okara'\n",
        "        },\n",
        "    'islamabad': {\n",
        "        'country': 'pakistan',\n",
        "        'population': '1 million',\n",
        "        'nearbyplace': 'pindi'\n",
        "        }\n",
        "    }\n",
        "\n",
        "\n",
        "\n",
        "for city, city_info in cities.items():\n",
        "  country = city_info['country'].title()\n",
        "  population = city_info['population']\n",
        "  place = city_info['nearbyplace']\n",
        "\n",
        "  print(f\"\\n{city.title()} is in {country}.\")\n",
        "  print(f\"  It has a population of about {population}.\")\n",
        "  print(f\"  The {place} are nearby.\")"
      ],
      "metadata": {
        "colab": {
          "base_uri": "https://localhost:8080/"
        },
        "id": "-UD6FKial2lx",
        "outputId": "f03027a1-2814-4276-fd4f-7ad5a8b7e572"
      },
      "execution_count": 3,
      "outputs": [
        {
          "output_type": "stream",
          "name": "stdout",
          "text": [
            "\n",
            "Multan is in Pakistan.\n",
            "  It has a population of about 2 million.\n",
            "  The Bahawalpur are nearby.\n",
            "\n",
            "Lahore is in Pakistan .\n",
            "  It has a population of about 10 million.\n",
            "  The okara are nearby.\n",
            "\n",
            "Islamabad is in Pakistan.\n",
            "  It has a population of about 1 million.\n",
            "  The pindi are nearby.\n"
          ]
        }
      ]
    }
  ]
}